{
 "cells": [
  {
   "cell_type": "markdown",
   "metadata": {},
   "source": [
    "# Multimimensional Dyck languages"
   ]
  },
  {
   "cell_type": "markdown",
   "metadata": {},
   "source": [
    "A $k$-dimensional Dyck language, $D_k$, consists of words over a $k$-letter alphabet (with the usual lexicographic ordering) satisfying the following two conditions:\n",
    "\n",
    "* FREQ: each word contains the $k$ letters with equal frequency\n",
    "* PREFIX: for every prefix of a word, the number of $a_1 \\geq$ the number of $a_2\\geq \\ldots \\geq$ the number of $a_k$\n",
    "\n",
    "The familiar language of balanced brackets is $D_2$.\n",
    "\n",
    "For the place of $D_k$ in the extended Chomsky hierarchy, the conjecture is that $D_k$ languages are recognizable by $(k-1)$-MCFG. For example: $D_2$ is recognized by a 1-MCFG, in other words, a simple CFG.\n",
    "\n",
    "Your challenge is to give a 2-MCFG for $D_3$, and to show it is correct and complete. \n",
    "\n",
    "For background, see Moortgat (2014) A note on multidimensional Dyck languages. http://link.springer.com/chapter/10.1007/978-3-642-54789-8_16"
   ]
  },
  {
   "cell_type": "markdown",
   "metadata": {},
   "source": [
    "Let us start with some helper definitions to generate the Dyck words. In Moortgat (2014) it is shown that the words of $D_k$ can be obtained by repeated shuffling of a deck of $k$ cards (the alphabet symbols). shuffle() is the standard definition for merging two lists in such a way that the order of the elements in the individual lists is respected. dshuffle() is a restricted version that avoids duplicates in case the two decks to be shuffled contain identical cards."
   ]
  },
  {
   "cell_type": "code",
   "execution_count": 1,
   "metadata": {},
   "outputs": [],
   "source": [
    "def shuffle(l,r):\n",
    "    if not (l and r): # left and/or right pack are empty\n",
    "        return [ l+r ]\n",
    "    else:\n",
    "        return [ l[0]+w for w in shuffle(l[1:],r) ] + [ r[0]+w for w in shuffle(l,r[1:]) ] \n",
    "\n",
    "def dshuffle(l,r):\n",
    "    return [ l+r ] if not (l and r) else\\\n",
    "        [ (l,r)[i][0]+w for i in range(2) if not i or r[0]<l[0] for w in dshuffle(l[(i+1)%2:],r[i%2:]) ]"
   ]
  },
  {
   "cell_type": "markdown",
   "metadata": {},
   "source": [
    "The function dyck(k,n) generates a list with the $k$-dimensional Dyck words with letter frequency $n$. (When you try this out, keep $n$ small: with increasing $n$ the number of words grows very quickly! You'll have to rewrite the code to use generators if you want to work with large $n$.)"
   ]
  },
  {
   "cell_type": "code",
   "execution_count": 2,
   "metadata": {},
   "outputs": [],
   "source": [
    "def dyck(k,n):\n",
    "    sigma = ''.join([ chr(97+i) for i in range(k) ])# a,b,c,... (k letters)\n",
    "    return [ sigma*n ] if n<2 else sum([ dshuffle(sigma,w) for w in dyck(k,n-1) ],[])"
   ]
  },
  {
   "cell_type": "code",
   "execution_count": 3,
   "metadata": {},
   "outputs": [
    {
     "data": {
      "text/plain": [
       "42"
      ]
     },
     "execution_count": 3,
     "metadata": {},
     "output_type": "execute_result"
    }
   ],
   "source": [
    "len(dyck(3,3))"
   ]
  },
  {
   "cell_type": "code",
   "execution_count": 4,
   "metadata": {},
   "outputs": [
    {
     "data": {
      "text/plain": [
       "['abcabc', 'abacbc', 'ababcc', 'aabcbc', 'aabbcc']"
      ]
     },
     "execution_count": 4,
     "metadata": {},
     "output_type": "execute_result"
    }
   ],
   "source": [
    "dshuffle('abc','abc')"
   ]
  },
  {
   "cell_type": "markdown",
   "metadata": {},
   "source": [
    "## Testing"
   ]
  },
  {
   "cell_type": "markdown",
   "metadata": {},
   "source": [
    "If you think you have found a 2-MCFG for $D_3$, you can test it with Peter Ljunglöf's MCFG parser.\n",
    "\n",
    "* Peter Ljunglöf (2012). Practical Parsing of Parallel Multiple Context-Free Grammars. (http://alpage.inria.fr/~clerger/tmpTAG11/cdrom/pdf/TAG+1117.pdf)\n",
    "\n",
    "* Code available from https://github.com/heatherleaf/MCFParser.py"
   ]
  },
  {
   "cell_type": "code",
   "execution_count": 5,
   "metadata": {},
   "outputs": [],
   "source": [
    "import sys\n",
    "import itertools\n",
    "import re\n",
    "import numpy as np\n",
    "import matplotlib.pyplot as plt\n",
    "\n",
    "from matplotlib.ticker import MaxNLocator\n",
    "\n",
    "%matplotlib inline\n",
    "\n",
    "from MCFParser import *\n"
   ]
  },
  {
   "cell_type": "markdown",
   "metadata": {},
   "source": [
    "A grammar for the MCFParser is a list of rules. A rule is a 4-tuple:\n",
    "\n",
    "* a rule identifier (cf the ACG rule constant)\n",
    "* the left-hand side (lhs) non-terminal\n",
    "* a list (possibly empty) of rhs non-terminals\n",
    "* a recipe how to build the string tuple of the lhs non-terminal out of the string tuples of the rhs non-terminals\n",
    "\n",
    "The recipe is a list of lists. Its length is the dimension of the lhs nonterminal. Variables are pairs (n,m), where n refers to the n-th rhs nonterminal and m to the m-th tuple component of n (counting starts at zero).\n",
    "\n",
    "The example grammar $\\{a^n b^n c^n d^n \\mid n >0\\}$ in MCFParser format is given below. "
   ]
  },
  {
   "cell_type": "code",
   "execution_count": 6,
   "metadata": {},
   "outputs": [],
   "source": [
    "grammar0 = [('r0','S', ['A'], [[(0,0),(0,1)]]),\n",
    "           ('r1','A',['A'],[['a',(0,0),'b'],['c',(0,1),'d']]),\n",
    "           ('r2','A',[],[['a','b'],['c','d']])\n",
    "           ]\n",
    "\n",
    "p = Parser(grammar0,['S'])"
   ]
  },
  {
   "cell_type": "markdown",
   "metadata": {},
   "source": [
    "There are two useful methods for testing. chart_parse() returns True/False dependiing on whether a word has a parse. parse() returns a list of abstract syntax trees for a word that is succesfully parsed."
   ]
  },
  {
   "cell_type": "code",
   "execution_count": 7,
   "metadata": {},
   "outputs": [
    {
     "name": "stdout",
     "output_type": "stream",
     "text": [
      "('r0', ('r1', ('r1', ('r2',))))\n"
     ]
    }
   ],
   "source": [
    "for t in p.parse(list(\"aaabbbcccddd\")):\n",
    "    print t"
   ]
  },
  {
   "cell_type": "code",
   "execution_count": 8,
   "metadata": {},
   "outputs": [
    {
     "data": {
      "text/plain": [
       "False"
      ]
     },
     "execution_count": 8,
     "metadata": {},
     "output_type": "execute_result"
    }
   ],
   "source": [
    "p.chart_parse(list('aaabbbcccdd')) # oops - missing d .."
   ]
  },
  {
   "cell_type": "markdown",
   "metadata": {},
   "source": [
    "## Your turn"
   ]
  },
  {
   "cell_type": "code",
   "execution_count": 9,
   "metadata": {},
   "outputs": [],
   "source": [
    "# write your candidate 2-MCFG\n",
    "\n",
    "# mygrammar = [ ... ]\n",
    "\n",
    "# tell the parser to use it:\n",
    "\n",
    "# p = Parser(mygrammar,['S'])\n",
    "\n",
    "# Below is a simple test function printing out words that your grammar does not recognize.\n",
    "# Make sure to test also that it doesn't recognize incorrect words!\n"
   ]
  },
  {
   "cell_type": "code",
   "execution_count": 10,
   "metadata": {},
   "outputs": [],
   "source": [
    "mm0 = [('r0','S', ['A'], [[(0,0),(0,1)]]),\n",
    "    ('r1','A',['A'],[[(0, 0)], [(0, 1), 'a', 'b', 'c']]),\n",
    "    ('r2','A',['A'],[[(0, 0)], ['a', (0, 1), 'b', 'c']]),\n",
    "    ('r3','A',['A'],[[(0, 0)], ['a', 'b', (0, 1), 'c']]),\n",
    "    ('r4','A',['A'],[[(0, 0)], ['a', 'b', 'c', (0, 1)]]),\n",
    "    ('r11','A',['A'],[[(0, 0), (0, 1)], ['a', 'b', 'c']]),\n",
    "    ('r12','A',['A'],[[(0, 0), 'a'], [(0, 1), 'b', 'c']]),\n",
    "    ('r13','A',['A'],[[(0, 0), 'a'], ['b', (0, 1), 'c']]),\n",
    "    ('r14','A',['A'],[[(0, 0), 'a'], ['b', 'c', (0, 1)]]),\n",
    "    ('r21','A',['A'],[[(0, 0), (0, 1), 'a'], ['b', 'c']]),\n",
    "    ('r22','A',['A'],[[(0, 0), 'a', (0, 1)], ['b', 'c']]),\n",
    "    ('r23','A',['A'],[[(0, 0), 'a', 'b'], [(0, 1), 'c']]),\n",
    "    ('r24','A',['A'],[[(0, 0), 'a', 'b'], ['c', (0, 1)]]),\n",
    "    ('r31','A',['A'],[[(0, 0), (0, 1), 'a', 'b'], ['c']]),\n",
    "    ('r32','A',['A'],[[(0, 0), 'a', (0, 1), 'b'], ['c']]),\n",
    "    ('r33','A',['A'],[[(0, 0), 'a', 'b', (0, 1)], ['c']]),\n",
    "    ('r34','A',['A'],[[(0, 0), 'a', 'b', 'c'], [(0, 1)]]),\n",
    "    ('r51','A',['A','A'],[['a',(0,0),'b'],[(1,0),'c',(0,1),(1,1)]]),\n",
    "    ('r52','A',['A','A'],[['a',(0,0),'b'],[(1,0),'c',(1,1),(0,1)]]),\n",
    "    ('r53','A',['A','A'],[[(0,0),(1,0),'a',(0,1),'b'],[(1,1),'c']]),\n",
    "    ('r54','A',['A','A'],[[(0,0),(1,0),'a',(1,1),'b'],[(0,1),'c']]),\n",
    "    ('r41','A',[],[['a'],['b','c']]),\n",
    "    ('r42','A',[],[['a','b'],['c']])\n",
    "    ]\n",
    "\n",
    "p = Parser(mm0,['S'])"
   ]
  },
  {
   "cell_type": "code",
   "execution_count": 11,
   "metadata": {},
   "outputs": [],
   "source": [
    "# print unrecognized words with letter multiplicity n\n",
    "\n",
    "def d3test(n):\n",
    "    for w in dyck(3,n):\n",
    "        if not p.chart_parse(list(w)):\n",
    "            print w"
   ]
  },
  {
   "cell_type": "code",
   "execution_count": 13,
   "metadata": {},
   "outputs": [],
   "source": [
    "# everything OK up to n=3 ...\n",
    "\n",
    "d3test(3)"
   ]
  },
  {
   "cell_type": "code",
   "execution_count": 17,
   "metadata": {},
   "outputs": [
    {
     "name": "stdout",
     "output_type": "stream",
     "text": [
      "('r0', ('r3', ('r41',)))\n",
      "('r0', ('r33', ('r41',)))\n",
      "('r0', ('r23', ('r41',)))\n",
      "('r0', ('r13', ('r41',)))\n"
     ]
    }
   ],
   "source": [
    "# grammar mm0 has lots of spurious ambiguity:\n",
    "\n",
    "for t in p.parse(list(\"aabbcc\")):\n",
    "    print t"
   ]
  },
  {
   "cell_type": "code",
   "execution_count": 18,
   "metadata": {
    "collapsed": true
   },
   "outputs": [],
   "source": [
    "# a queue-based machine model\n",
    "# empty queue: 'Z'\n",
    "# reading 'a' pushes 'N' in front of queue\n",
    "# reading 'b': cancels initial 'N' and adds final 'N'\n",
    "# reading 'c': cancels final 'N'\n",
    "\n",
    "def d3_queue(w,q='Z',steps=[]): # beginwaarden voor q en steps\n",
    "    if w=='' and q=='Z':\n",
    "        return steps+[(w,q)]\n",
    "    elif w[0]=='a':\n",
    "        return d3_queue(w[1:],'N'+q,steps+[(w[0],q)])\n",
    "    elif w[0]=='b' and q[0]=='N':\n",
    "        return d3_queue(w[1:],q[1:]+'N',steps+[(w[0],q)])\n",
    "    elif w[0]=='c' and q[-1]=='N':\n",
    "        return d3_queue(w[1:],q[:-1],steps+[(w[0],q)])\n",
    "    else:\n",
    "        return steps+[(w,q)]\n",
    "    \n",
    "# acceptance: empty input, empty queue\n",
    "\n",
    "def d3_accept(w):\n",
    "    run = d3_queue(w)\n",
    "    if run[-1]==('','Z'):\n",
    "        return True\n",
    "    else: \n",
    "        return False\n",
    "\n",
    "# plotting\n",
    "\n",
    "def ybar(q):\n",
    "    return (-len(q[:q.index('Z')]),len(q[q.index('Z')+1:]))\n",
    "\n",
    "def ybars(d):\n",
    "    return map(lambda x:ybar(x[1]),d)\n",
    "\n",
    "def d3_plot(d):\n",
    "    ind = np.arange(len(d))\n",
    "    front = tuple(map(lambda x:x[0],ybars(d)))\n",
    "    back = tuple(map(lambda x:x[1],ybars(d)))\n",
    "    plt.bar(ind, front, 1.001, color='.65')\n",
    "    plt.bar(ind, back, 1.001, color='.65')\n",
    "    plt.xticks(ind+.5, tuple([ item[0] for item in d]) )\n",
    "    plt.yticks(range(-(len(d)//3),len(d)//3,1))\n",
    "    plt.axis([0,len(d),-(len(d)//3),len(d)//3])\n",
    "    return None"
   ]
  },
  {
   "cell_type": "code",
   "execution_count": 19,
   "metadata": {},
   "outputs": [
    {
     "data": {
      "image/png": "[encoded data removed]",
      "text/plain": [
       "<matplotlib.figure.Figure at 0x109fb1e10>"
      ]
     },
     "metadata": {},
     "output_type": "display_data"
    }
   ],
   "source": [
    "d3_plot(d3_queue(\"aaabbbccc\"))"
   ]
  }
 ],
 "metadata": {
  "kernelspec": {
   "display_name": "Python 2",
   "language": "python",
   "name": "python2"
  },
  "language_info": {
   "codemirror_mode": {
    "name": "ipython",
    "version": 2
   },
   "file_extension": ".py",
   "mimetype": "text/x-python",
   "name": "python",
   "nbconvert_exporter": "python",
   "pygments_lexer": "ipython2",
   "version": "2.7.12"
  }
 },
 "nbformat": 4,
 "nbformat_minor": 1
}
