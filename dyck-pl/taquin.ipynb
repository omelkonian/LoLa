{
 "cells": [
  {
   "cell_type": "markdown",
   "metadata": {},
   "source": [
    "# Young tableaux: Jeu de taquin"
   ]
  },
  {
   "cell_type": "code",
   "execution_count": null,
   "metadata": {
    "collapsed": true
   },
   "outputs": [],
   "source": [
    "import itertools as it\n",
    "import numpy as np"
   ]
  },
  {
   "cell_type": "code",
   "execution_count": null,
   "metadata": {
    "collapsed": true
   },
   "outputs": [],
   "source": [
    "# iterator version of the Dyck predicates from challenge17.ipynb\n",
    "\n",
    "def ishuffle(l,r):\n",
    "    if not (l and r):\n",
    "        yield l+r\n",
    "    else:\n",
    "        yield from ( (l,r)[i][0]+w for i in range(2) if not i or r[0]<l[0] for w in ishuffle(l[(i+1)%2:],r[i%2:]) )\n",
    "\n",
    "def idyck(k,n):\n",
    "    sigma = ''.join([ chr(97+i) for i in range(k) ])# a,b,c,... (k letters)\n",
    "    if n<2:\n",
    "        yield sigma*n\n",
    "    else:\n",
    "        yield from it.chain.from_iterable(( ishuffle(sigma,w) for w in idyck(k,n-1) ))"
   ]
  },
  {
   "cell_type": "code",
   "execution_count": null,
   "metadata": {
    "collapsed": false
   },
   "outputs": [],
   "source": [
    "list(idyck(3,2))"
   ]
  },
  {
   "cell_type": "code",
   "execution_count": 150,
   "metadata": {
    "collapsed": false
   },
   "outputs": [],
   "source": [
    "# conversion tableaux <-> words\n",
    "\n",
    "# tableau --> Yamanouchi word\n",
    "\n",
    "def yamanouchi(tbl):\n",
    "    word = np.arange(tbl.size)\n",
    "    for i,j in np.ndindex(tbl.shape):\n",
    "        word[tbl[i,j]-1] = i+1\n",
    "    return word\n",
    "\n",
    "# Yamanouchi word --> tableau\n",
    "\n",
    "def tableau(y):\n",
    "    elist = [ j+1 for _,j in sorted(list(zip(y,range(len(y))))) ]\n",
    "    tbl = np.array(elist).reshape(max(y),len(y)//max(y))            \n",
    "    return tbl\n",
    "\n",
    "# translation to alphabetic form\n",
    "\n",
    "def t2w(tbl):\n",
    "    return ''.join([ chr(96+i) for i in yamanouchi(tbl) ])\n",
    "\n",
    "def w2t(word):\n",
    "    return tableau([ ord(i)-96 for i in word ])"
   ]
  },
  {
   "cell_type": "code",
   "execution_count": 155,
   "metadata": {
    "collapsed": false
   },
   "outputs": [
    {
     "name": "stdout",
     "output_type": "stream",
     "text": [
      "[[1 3]\n",
      " [2 5]\n",
      " [4 6]]\n"
     ]
    },
    {
     "data": {
      "text/plain": [
       "'abacbc'"
      ]
     },
     "execution_count": 155,
     "metadata": {},
     "output_type": "execute_result"
    }
   ],
   "source": [
    "print(w2t('abacbc'))\n",
    "\n",
    "t2w(w2t('abacbc'))"
   ]
  },
  {
   "cell_type": "markdown",
   "metadata": {},
   "source": [
    "## Jeu-de-taquin promotion"
   ]
  },
  {
   "cell_type": "markdown",
   "metadata": {},
   "source": [
    "The *jeu-de-taquin* promotion is a transformation on Young tableaux. Here is the description as given in \n",
    "[Petersen et al](https://arxiv.org/abs/0804.3375) (2008). \n",
    "\n",
    "Given a tableau T for some partition of n, transform it into T' with the following algorithm.\n",
    "\n",
    "1. Remove the entry 1 in the upper left corner and decrease every other entry by 1. The empty box is initialized in position (a, b) = (0,0).\n",
    "\n",
    "2. Play the jeu-de-taquin game:\n",
    "\n",
    "    (a) If there is no box to the right of the empty box and no box below the empty\n",
    "box, then fill the empty box with n.\n",
    "\n",
    "    (b) If there is a box to the right or below the empty box, then swap the empty\n",
    "box with the box containing the smaller entry. Set (a, b) := (a′, b′), where (a′, b′) are the coordinates of box swapped, and go to 2a).\n",
    "\n",
    "The function taquin() implements this algorithm; taquin_star() is the reflexive/transitive closure."
   ]
  },
  {
   "cell_type": "code",
   "execution_count": null,
   "metadata": {
    "collapsed": true
   },
   "outputs": [],
   "source": [
    "def taquin(tbl):\n",
    "    return taquin_move(tbl-1,0,0)\n",
    "\n",
    "def taquin_move(tbl,r,c):\n",
    "    if right(tbl,r,c)==None and under(tbl,r,c)==None:\n",
    "        tbl[r][c]=tbl.size\n",
    "        return tbl\n",
    "    else:\n",
    "        r1,c1=update(tbl,r,c)\n",
    "        tbl[r][c]=tbl[r1][c1]\n",
    "        return taquin_move(tbl,r1,c1)\n",
    "            \n",
    "def update(tbl,r,c):\n",
    "    if right(tbl,r,c)==None: return r+1,c\n",
    "    if under(tbl,r,c)==None: return r,c+1\n",
    "    if min(right(tbl,r,c),under(tbl,r,c))==tbl[r+1][c]:return r+1,c\n",
    "    return r,c+1\n",
    "\n",
    "def right(tbl,r,c):\n",
    "    if c>=len(tbl[r])-1: \n",
    "        return None\n",
    "    else:\n",
    "        return tbl[r][c+1]\n",
    "\n",
    "def under(tbl,r,c):\n",
    "    if r>=len(tbl)-1: \n",
    "        return None\n",
    "    else:\n",
    "        return tbl[r+1][c]\n",
    "    \n",
    "# closure\n",
    "\n",
    "def taquin_star(tbl):\n",
    "    result = [ tbl ]\n",
    "    while len(result)==1 or not np.array_equal(result[-1],tbl):\n",
    "        result.append(taquin(result[-1]))\n",
    "    return result[:-1]"
   ]
  },
  {
   "cell_type": "code",
   "execution_count": null,
   "metadata": {
    "collapsed": false
   },
   "outputs": [],
   "source": [
    "# Example: all words obtainable from 'abcabc' by taquin promotion\n",
    "\n",
    "[ t2w(tbl) for tbl in taquin_star(w2t('abcabc')) ]"
   ]
  },
  {
   "cell_type": "markdown",
   "metadata": {},
   "source": [
    "The function taquin_mod() partitions the words of $D^k_n$ in equivalence classes modulo taquin_star(). \n",
    "\n",
    "TO DO: iterator versions of taquin_mod and taquin_star()."
   ]
  },
  {
   "cell_type": "code",
   "execution_count": null,
   "metadata": {
    "collapsed": false
   },
   "outputs": [],
   "source": [
    "def taquin_mod(words,out=[]):\n",
    "    if not words: return out\n",
    "    else:\n",
    "        tws = [ t2w(t) for t in taquin_star(w2t(words[0])) ]\n",
    "        return taquin_mod([ w for w in words if not w in tws ],out+[ tws ])\n",
    "    "
   ]
  },
  {
   "cell_type": "code",
   "execution_count": null,
   "metadata": {
    "collapsed": false
   },
   "outputs": [],
   "source": [
    "taquin_mod(list(idyck(3,4)))"
   ]
  }
 ],
 "metadata": {
  "kernelspec": {
   "display_name": "Python 3",
   "language": "python",
   "name": "python3"
  },
  "language_info": {
   "codemirror_mode": {
    "name": "ipython",
    "version": 3
   },
   "file_extension": ".py",
   "mimetype": "text/x-python",
   "name": "python",
   "nbconvert_exporter": "python",
   "pygments_lexer": "ipython3",
   "version": "3.5.3"
  }
 },
 "nbformat": 4,
 "nbformat_minor": 0
}
